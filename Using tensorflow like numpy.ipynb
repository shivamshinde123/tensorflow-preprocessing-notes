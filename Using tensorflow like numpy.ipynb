{
 "cells": [
  {
   "cell_type": "markdown",
   "id": "84054f28",
   "metadata": {},
   "source": [
    "<h2 style=\"border:1px solid white;background-color:#66AD47;text-align:center;padding:10px;border-radius:5px\">What is Tensor?</h2>"
   ]
  },
  {
   "cell_type": "markdown",
   "id": "c6aa5daa",
   "metadata": {},
   "source": [
    "<p style='color:#5A20CB'>A tensor is usually a multi-dimensional array (exactly like a numpy ndarray), but it can also hold a scalar (a simple value such as 42).</p>"
   ]
  },
  {
   "cell_type": "markdown",
   "id": "e958a7f6",
   "metadata": {},
   "source": [
    "<h2 style=\"border:1px solid white;background-color:#66AD47;text-align:center;padding:10px;border-radius:5px\">Tensors and Operations</h2>"
   ]
  },
  {
   "cell_type": "code",
   "execution_count": 1,
   "id": "4367b0e7",
   "metadata": {},
   "outputs": [],
   "source": [
    "import tensorflow as tf"
   ]
  },
  {
   "cell_type": "code",
   "execution_count": 2,
   "id": "0f2729a4",
   "metadata": {},
   "outputs": [
    {
     "data": {
      "text/plain": [
       "<tf.Tensor: shape=(2, 3), dtype=float32, numpy=\n",
       "array([[1., 2., 3.],\n",
       "       [4., 5., 6.]], dtype=float32)>"
      ]
     },
     "execution_count": 2,
     "metadata": {},
     "output_type": "execute_result"
    }
   ],
   "source": [
    "## you can create a tensor with tf.constant()\n",
    "\n",
    "new_tensor = tf.constant([[1. , 2. , 3.], [4. , 5. , 6.]])\n",
    "new_tensor"
   ]
  },
  {
   "cell_type": "code",
   "execution_count": 3,
   "id": "561b2ca6",
   "metadata": {},
   "outputs": [
    {
     "data": {
      "text/plain": [
       "<tf.Tensor: shape=(), dtype=int32, numpy=42>"
      ]
     },
     "execution_count": 3,
     "metadata": {},
     "output_type": "execute_result"
    }
   ],
   "source": [
    "tf.constant(42)"
   ]
  },
  {
   "cell_type": "code",
   "execution_count": 4,
   "id": "5fc403f7",
   "metadata": {},
   "outputs": [
    {
     "name": "stdout",
     "output_type": "stream",
     "text": [
      "shape:\n"
     ]
    },
    {
     "data": {
      "text/plain": [
       "TensorShape([2, 3])"
      ]
     },
     "execution_count": 4,
     "metadata": {},
     "output_type": "execute_result"
    }
   ],
   "source": [
    "## tf.Tensor has shape and data type\n",
    "\n",
    "print('shape:')\n",
    "new_tensor.shape"
   ]
  },
  {
   "cell_type": "code",
   "execution_count": 5,
   "id": "1fa511ae",
   "metadata": {},
   "outputs": [
    {
     "data": {
      "text/plain": [
       "tf.float32"
      ]
     },
     "execution_count": 5,
     "metadata": {},
     "output_type": "execute_result"
    }
   ],
   "source": [
    "new_tensor.dtype"
   ]
  },
  {
   "cell_type": "code",
   "execution_count": 6,
   "id": "4103ca5c",
   "metadata": {},
   "outputs": [
    {
     "data": {
      "text/plain": [
       "<tf.Tensor: shape=(2, 2), dtype=float32, numpy=\n",
       "array([[2., 3.],\n",
       "       [5., 6.]], dtype=float32)>"
      ]
     },
     "execution_count": 6,
     "metadata": {},
     "output_type": "execute_result"
    }
   ],
   "source": [
    "## indexing in tensorflow works much like numpy\n",
    "\n",
    "new_tensor[:,1:]"
   ]
  },
  {
   "cell_type": "code",
   "execution_count": 7,
   "id": "77fd9d39",
   "metadata": {},
   "outputs": [
    {
     "data": {
      "text/plain": [
       "<tf.Tensor: shape=(2, 3), dtype=float32, numpy=\n",
       "array([[11., 12., 13.],\n",
       "       [14., 15., 16.]], dtype=float32)>"
      ]
     },
     "execution_count": 7,
     "metadata": {},
     "output_type": "execute_result"
    }
   ],
   "source": [
    "## all sort of operations are available with tensors\n",
    "\n",
    "new_tensor + 10"
   ]
  },
  {
   "cell_type": "code",
   "execution_count": 8,
   "id": "143656be",
   "metadata": {},
   "outputs": [
    {
     "data": {
      "text/plain": [
       "<tf.Tensor: shape=(2, 3), dtype=float32, numpy=\n",
       "array([[ 1.,  4.,  9.],\n",
       "       [16., 25., 36.]], dtype=float32)>"
      ]
     },
     "execution_count": 8,
     "metadata": {},
     "output_type": "execute_result"
    }
   ],
   "source": [
    "tf.square(new_tensor)"
   ]
  },
  {
   "cell_type": "code",
   "execution_count": 9,
   "id": "37db2a84",
   "metadata": {},
   "outputs": [
    {
     "data": {
      "text/plain": [
       "<tf.Tensor: shape=(2, 2), dtype=float32, numpy=\n",
       "array([[14., 32.],\n",
       "       [32., 77.]], dtype=float32)>"
      ]
     },
     "execution_count": 9,
     "metadata": {},
     "output_type": "execute_result"
    }
   ],
   "source": [
    "new_tensor @ tf.transpose(new_tensor)"
   ]
  },
  {
   "cell_type": "markdown",
   "id": "1c39090d",
   "metadata": {},
   "source": [
    "<p style='color:#5A20CB'>other basic functions include:</p>"
   ]
  },
  {
   "cell_type": "markdown",
   "id": "fab763b8",
   "metadata": {},
   "source": [
    "<p style='color:#5A20CB'>tf.add(), tf.mulitply(), tf.exp(), tf.sqrt(), tf.reshape(), tf.squeeze(), tf.tile(), tf.reduce_mean(), tf.reduce_sum(),\n",
    "tf.reduce_max(), tf.math.log(), etc.</p>"
   ]
  },
  {
   "cell_type": "markdown",
   "id": "a06153a6",
   "metadata": {},
   "source": [
    "<h2 style=\"border:1px solid white;background-color:#66AD47;text-align:center;padding:10px;border-radius:5px\">Tensors and NumPy</h2>"
   ]
  },
  {
   "cell_type": "markdown",
   "id": "2dbac1c3",
   "metadata": {},
   "source": [
    "<p style='color:#5A20CB'>Tensors play nice with numpy: you can create a tensor from a numpy array, and vice versa. You can even apply tensorflow operations to numpy arrays and numpy operations to tensors</p>"
   ]
  },
  {
   "cell_type": "code",
   "execution_count": 10,
   "id": "6e6c1a80",
   "metadata": {},
   "outputs": [],
   "source": [
    "import numpy as np\n",
    "\n",
    "t = tf.constant([[1. , 2. , 3.], [4. , 5. , 6.]])\n",
    "n = np.array([10. , 12. , 14.])"
   ]
  },
  {
   "cell_type": "code",
   "execution_count": 11,
   "id": "b5132946",
   "metadata": {},
   "outputs": [
    {
     "data": {
      "text/plain": [
       "<tf.Tensor: shape=(3,), dtype=float32, numpy=array([10., 12., 14.], dtype=float32)>"
      ]
     },
     "execution_count": 11,
     "metadata": {},
     "output_type": "execute_result"
    }
   ],
   "source": [
    "tf.constant(n,tf.float32)"
   ]
  },
  {
   "cell_type": "code",
   "execution_count": 12,
   "id": "272358fb",
   "metadata": {},
   "outputs": [
    {
     "data": {
      "text/plain": [
       "array([[1., 2., 3.],\n",
       "       [4., 5., 6.]], dtype=float32)"
      ]
     },
     "execution_count": 12,
     "metadata": {},
     "output_type": "execute_result"
    }
   ],
   "source": [
    "t.numpy()"
   ]
  },
  {
   "cell_type": "code",
   "execution_count": 13,
   "id": "f75d5893",
   "metadata": {},
   "outputs": [
    {
     "data": {
      "text/plain": [
       "<tf.Tensor: shape=(3,), dtype=float64, numpy=array([100., 144., 196.])>"
      ]
     },
     "execution_count": 13,
     "metadata": {},
     "output_type": "execute_result"
    }
   ],
   "source": [
    "tf.square(n)"
   ]
  },
  {
   "cell_type": "code",
   "execution_count": 14,
   "id": "f321e21b",
   "metadata": {},
   "outputs": [
    {
     "data": {
      "text/plain": [
       "array([[ 1.,  4.,  9.],\n",
       "       [16., 25., 36.]], dtype=float32)"
      ]
     },
     "execution_count": 14,
     "metadata": {},
     "output_type": "execute_result"
    }
   ],
   "source": [
    "np.square(t)"
   ]
  },
  {
   "cell_type": "markdown",
   "id": "a2103ddf",
   "metadata": {},
   "source": [
    "<p style='color:#5A20CB'>Notice that numpy uses 64-bit precision by default, while tensorflow uses 32-bit. This is because 32-bit precision is generally more than enough for neural networks, plus it runs faster and uses less RAM. So when you create a tensor from a numpy array, make sure to set dtype=tf.float32.</p>"
   ]
  },
  {
   "cell_type": "markdown",
   "id": "57d41adf",
   "metadata": {},
   "source": [
    "<h2 style=\"border:1px solid white;background-color:#66AD47;text-align:center;padding:10px;border-radius:5px\">Type Conversion</h2>"
   ]
  },
  {
   "cell_type": "markdown",
   "id": "aeac1b33",
   "metadata": {},
   "source": [
    "<p style='color:#5A20CB'>Tyep conversions can significantly hurt performance, and they can easily go unnoticed when they are done automatically. To avoid this, Tensorflow does not perform any type conversions automatically: it just raises an exception if you try to execute an operation on tensors with incompatible types. For example, you cannot add a float tensor to an integer tensor, and you cannot even add a 32-bit float and a 64-bit float.</p>"
   ]
  },
  {
   "cell_type": "code",
   "execution_count": 15,
   "id": "b92b2a35",
   "metadata": {},
   "outputs": [
    {
     "ename": "InvalidArgumentError",
     "evalue": "cannot compute AddV2 as input #1(zero-based) was expected to be a float tensor but is a int32 tensor [Op:AddV2]",
     "output_type": "error",
     "traceback": [
      "\u001b[1;31m---------------------------------------------------------------------------\u001b[0m",
      "\u001b[1;31mInvalidArgumentError\u001b[0m                      Traceback (most recent call last)",
      "Input \u001b[1;32mIn [15]\u001b[0m, in \u001b[0;36m<cell line: 1>\u001b[1;34m()\u001b[0m\n\u001b[1;32m----> 1\u001b[0m \u001b[43mtf\u001b[49m\u001b[38;5;241;43m.\u001b[39;49m\u001b[43mconstant\u001b[49m\u001b[43m(\u001b[49m\u001b[38;5;241;43m3.\u001b[39;49m\u001b[43m)\u001b[49m\u001b[43m \u001b[49m\u001b[38;5;241;43m+\u001b[39;49m\u001b[43m \u001b[49m\u001b[43mtf\u001b[49m\u001b[38;5;241;43m.\u001b[39;49m\u001b[43mconstant\u001b[49m\u001b[43m(\u001b[49m\u001b[38;5;241;43m23\u001b[39;49m\u001b[43m)\u001b[49m\n",
      "File \u001b[1;32m~\\anaconda3\\lib\\site-packages\\tensorflow\\python\\util\\traceback_utils.py:153\u001b[0m, in \u001b[0;36mfilter_traceback.<locals>.error_handler\u001b[1;34m(*args, **kwargs)\u001b[0m\n\u001b[0;32m    151\u001b[0m \u001b[38;5;28;01mexcept\u001b[39;00m \u001b[38;5;167;01mException\u001b[39;00m \u001b[38;5;28;01mas\u001b[39;00m e:\n\u001b[0;32m    152\u001b[0m   filtered_tb \u001b[38;5;241m=\u001b[39m _process_traceback_frames(e\u001b[38;5;241m.\u001b[39m__traceback__)\n\u001b[1;32m--> 153\u001b[0m   \u001b[38;5;28;01mraise\u001b[39;00m e\u001b[38;5;241m.\u001b[39mwith_traceback(filtered_tb) \u001b[38;5;28;01mfrom\u001b[39;00m \u001b[38;5;28mNone\u001b[39m\n\u001b[0;32m    154\u001b[0m \u001b[38;5;28;01mfinally\u001b[39;00m:\n\u001b[0;32m    155\u001b[0m   \u001b[38;5;28;01mdel\u001b[39;00m filtered_tb\n",
      "File \u001b[1;32m~\\anaconda3\\lib\\site-packages\\tensorflow\\python\\framework\\ops.py:7209\u001b[0m, in \u001b[0;36mraise_from_not_ok_status\u001b[1;34m(e, name)\u001b[0m\n\u001b[0;32m   7207\u001b[0m \u001b[38;5;28;01mdef\u001b[39;00m \u001b[38;5;21mraise_from_not_ok_status\u001b[39m(e, name):\n\u001b[0;32m   7208\u001b[0m   e\u001b[38;5;241m.\u001b[39mmessage \u001b[38;5;241m+\u001b[39m\u001b[38;5;241m=\u001b[39m (\u001b[38;5;124m\"\u001b[39m\u001b[38;5;124m name: \u001b[39m\u001b[38;5;124m\"\u001b[39m \u001b[38;5;241m+\u001b[39m name \u001b[38;5;28;01mif\u001b[39;00m name \u001b[38;5;129;01mis\u001b[39;00m \u001b[38;5;129;01mnot\u001b[39;00m \u001b[38;5;28;01mNone\u001b[39;00m \u001b[38;5;28;01melse\u001b[39;00m \u001b[38;5;124m\"\u001b[39m\u001b[38;5;124m\"\u001b[39m)\n\u001b[1;32m-> 7209\u001b[0m   \u001b[38;5;28;01mraise\u001b[39;00m core\u001b[38;5;241m.\u001b[39m_status_to_exception(e) \u001b[38;5;28;01mfrom\u001b[39;00m \u001b[38;5;28mNone\u001b[39m\n",
      "\u001b[1;31mInvalidArgumentError\u001b[0m: cannot compute AddV2 as input #1(zero-based) was expected to be a float tensor but is a int32 tensor [Op:AddV2]"
     ]
    }
   ],
   "source": [
    "tf.constant(3.) + tf.constant(23)"
   ]
  },
  {
   "cell_type": "markdown",
   "id": "556f4868",
   "metadata": {},
   "source": [
    "<p style='color:#5A20CB'>You can use tf.cast() when you really need to convert types.</p>"
   ]
  },
  {
   "cell_type": "code",
   "execution_count": 16,
   "id": "f3eb7325",
   "metadata": {},
   "outputs": [
    {
     "data": {
      "text/plain": [
       "<tf.Tensor: shape=(), dtype=float32, numpy=32.0>"
      ]
     },
     "execution_count": 16,
     "metadata": {},
     "output_type": "execute_result"
    }
   ],
   "source": [
    "t1 = tf.constant(20.0, tf.float32)\n",
    "t2 = tf.constant(12)\n",
    "t1 + tf.cast(t2, tf.float32)"
   ]
  },
  {
   "cell_type": "markdown",
   "id": "6e6131fc",
   "metadata": {},
   "source": [
    "<h2 style=\"border:1px solid white;background-color:#66AD47;text-align:center;padding:10px;border-radius:5px\">Variables</h2>"
   ]
  },
  {
   "cell_type": "markdown",
   "id": "cbf43369",
   "metadata": {},
   "source": [
    "<p style='color:#5A20CB'>the tf.Tensor values we've seen so far are immutable: you cannot modify them. This means that we cannot use regular tensors to implement weights in a neural network, since they need to be tweaked by backpropagation. Plus, other parameters may also need to change over time. What we need is tf.Variable.</p>"
   ]
  },
  {
   "cell_type": "code",
   "execution_count": 17,
   "id": "ee692e14",
   "metadata": {},
   "outputs": [
    {
     "data": {
      "text/plain": [
       "<tf.Variable 'Variable:0' shape=(2, 3) dtype=float32, numpy=\n",
       "array([[1., 2., 3.],\n",
       "       [4., 5., 6.]], dtype=float32)>"
      ]
     },
     "execution_count": 17,
     "metadata": {},
     "output_type": "execute_result"
    }
   ],
   "source": [
    "v = tf.Variable([[1., 2., 3.], [4., 5., 6.]])\n",
    "v"
   ]
  },
  {
   "cell_type": "markdown",
   "id": "c554a8af",
   "metadata": {},
   "source": [
    "<p style='color:#5A20CB'>A tf.Variable acts much like a tf.Tensor: you can perform the same operations with it, it plays nicely with NumPy as well, and it is just as pickly with types. But it can also be modified in place using the assign() method. You can also modify individual cells (or slices), by using the cell's (or slices's) assign() method or by using scatter_update() or scatter_nd_update() methods.</p>"
   ]
  },
  {
   "cell_type": "code",
   "execution_count": 18,
   "id": "4c4eaccf",
   "metadata": {},
   "outputs": [
    {
     "data": {
      "text/plain": [
       "<tf.Variable 'UnreadVariable' shape=(2, 3) dtype=float32, numpy=\n",
       "array([[ 2.,  4.,  6.],\n",
       "       [ 8., 10., 12.]], dtype=float32)>"
      ]
     },
     "execution_count": 18,
     "metadata": {},
     "output_type": "execute_result"
    }
   ],
   "source": [
    "v.assign(v * 2)"
   ]
  },
  {
   "cell_type": "code",
   "execution_count": 19,
   "id": "820ebcac",
   "metadata": {},
   "outputs": [
    {
     "data": {
      "text/plain": [
       "<tf.Variable 'Variable:0' shape=(2, 3) dtype=float32, numpy=\n",
       "array([[  2., 100.,   6.],\n",
       "       [  8.,  10.,  12.]], dtype=float32)>"
      ]
     },
     "execution_count": 19,
     "metadata": {},
     "output_type": "execute_result"
    }
   ],
   "source": [
    "v[0,1].assign(100.0)\n",
    "v"
   ]
  },
  {
   "cell_type": "code",
   "execution_count": 20,
   "id": "dd6b2123",
   "metadata": {},
   "outputs": [
    {
     "data": {
      "text/plain": [
       "<tf.Variable 'Variable:0' shape=(2, 3) dtype=float32, numpy=\n",
       "array([[ 2., 42.,  6.],\n",
       "       [ 8., 43., 12.]], dtype=float32)>"
      ]
     },
     "execution_count": 20,
     "metadata": {},
     "output_type": "execute_result"
    }
   ],
   "source": [
    "v[:,1].assign([42., 43.])\n",
    "v"
   ]
  },
  {
   "cell_type": "markdown",
   "id": "ccd87d89",
   "metadata": {},
   "source": [
    "<h2 style=\"border:1px solid white;background-color:#66AD47;text-align:center;padding:10px;border-radius:5px\">Other Data Structures</h2>"
   ]
  },
  {
   "cell_type": "markdown",
   "id": "d34590c7",
   "metadata": {},
   "source": [
    "<p style='color:#5A20CB'>Tensorflow supports several other data structures, including the following:</p>\n",
    "<p style='color:#5A20CB'><strong>Sparse Tensor (tf.SparseTensor)</strong>: Efficiently represent tensors containing mostly zeros. The tf.sparse package contains operations for sparse tensors.</p>\n",
    "<p style='color:#5A20CB'><strong>Tensor Arrays (tf.TensorArray)</strong>: Are lists of tensors. They have a fixed size by default but can optionally be made dynamic. All tensors they contain must have the same shape and data type.</p>\n",
    "<p style='color:#5A20CB'><strong>Ragged Tensor (tf.RaggedTensor)</strong>: Represent static lists of lists of tensors, where every tensor has the same shape an data type. The tf.ragged package contains operations for ragged tensors.</p>\n",
    "<p style='color:#5A20CB'><strong>String Tensors</strong>: Are regular tensors of type tf.string. These represent byte strings, not Unicode strings, so if you create a string tensor using Unicode string (e.g., a regular python 3 string liek \"cafe\"), then it will get encoded to UTF-8 automatically. Alternatively, you can represent Unicode strings using tensors of type tf.int32, where each item represents a Unicode code point (e.g., [99, 97, 102, 233]). The string package contains operations for byte strings and Unicode strings (and to convert one to other). It's important to note that a tf.string is atomic, meaning that its length does not appear in the tensor's shape. Once you convert it to a Unicode tensor (i.e., a tensor of type tf.int32 holding Unicode code points), the length appears in the shape.</p>\n",
    "<p style='color:#5A20CB'>Some other data structures: <strong>sets, queues</strong></p>"
   ]
  },
  {
   "cell_type": "code",
   "execution_count": null,
   "id": "e74d426b",
   "metadata": {},
   "outputs": [],
   "source": []
  }
 ],
 "metadata": {
  "kernelspec": {
   "display_name": "Python 3 (ipykernel)",
   "language": "python",
   "name": "python3"
  },
  "language_info": {
   "codemirror_mode": {
    "name": "ipython",
    "version": 3
   },
   "file_extension": ".py",
   "mimetype": "text/x-python",
   "name": "python",
   "nbconvert_exporter": "python",
   "pygments_lexer": "ipython3",
   "version": "3.9.12"
  }
 },
 "nbformat": 4,
 "nbformat_minor": 5
}
